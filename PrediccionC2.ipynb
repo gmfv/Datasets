{
  "nbformat": 4,
  "nbformat_minor": 0,
  "metadata": {
    "colab": {
      "name": "PrediccionC2.ipynb",
      "provenance": []
    },
    "kernelspec": {
      "name": "python3",
      "display_name": "Python 3"
    }
  },
  "cells": [
    {
      "cell_type": "code",
      "metadata": {
        "id": "gRSSgB7AXidT"
      },
      "source": [
        "import pandas as pd\r\n",
        "import numpy as np\r\n",
        "from sklearn import linear_model\r\n",
        "from sklearn import model_selection\r\n",
        "from sklearn.metrics import classification_report\r\n",
        "from sklearn.metrics import confusion_matrix\r\n",
        "from sklearn.metrics import accuracy_score\r\n",
        "import matplotlib.pyplot as plt\r\n",
        "import seaborn as sb\r\n",
        "%matplotlib inline\r\n",
        "df = pd.read_csv(\"https://raw.githubusercontent.com/gmfv/YIO/main/datosC2.csv\")\r\n",
        "\r\n"
      ],
      "execution_count": null,
      "outputs": []
    },
    {
      "cell_type": "markdown",
      "metadata": {
        "id": "maKGTB02AEyq"
      },
      "source": [
        " **Eliminamos algunas columnas**"
      ]
    },
    {
      "cell_type": "code",
      "metadata": {
        "colab": {
          "base_uri": "https://localhost:8080/",
          "height": 195
        },
        "id": "5AjpH2lwgiLc",
        "outputId": "5a06daaf-78d6-418c-8441-63454143547e"
      },
      "source": [
        "df = df.drop(df.columns[[0, 1, 2, 3, 5, 7, 12]], axis='columns')\r\n",
        "df.head()"
      ],
      "execution_count": null,
      "outputs": [
        {
          "output_type": "execute_result",
          "data": {
            "text/html": [
              "<div>\n",
              "<style scoped>\n",
              "    .dataframe tbody tr th:only-of-type {\n",
              "        vertical-align: middle;\n",
              "    }\n",
              "\n",
              "    .dataframe tbody tr th {\n",
              "        vertical-align: top;\n",
              "    }\n",
              "\n",
              "    .dataframe thead th {\n",
              "        text-align: right;\n",
              "    }\n",
              "</style>\n",
              "<table border=\"1\" class=\"dataframe\">\n",
              "  <thead>\n",
              "    <tr style=\"text-align: right;\">\n",
              "      <th></th>\n",
              "      <th>CodCarSec</th>\n",
              "      <th>Anho</th>\n",
              "      <th>Aprobado</th>\n",
              "      <th>AnhoFirma</th>\n",
              "      <th>PrimerPar</th>\n",
              "      <th>SegundoPar</th>\n",
              "      <th>Primer.Rec</th>\n",
              "      <th>SegundoRec</th>\n",
              "      <th>NotaFinal</th>\n",
              "      <th>id_anony</th>\n",
              "    </tr>\n",
              "  </thead>\n",
              "  <tbody>\n",
              "    <tr>\n",
              "      <th>0</th>\n",
              "      <td>ELE-PLS13</td>\n",
              "      <td>2017</td>\n",
              "      <td>N</td>\n",
              "      <td>0</td>\n",
              "      <td>7</td>\n",
              "      <td>0</td>\n",
              "      <td>0</td>\n",
              "      <td>0</td>\n",
              "      <td>NaN</td>\n",
              "      <td>es_1444</td>\n",
              "    </tr>\n",
              "    <tr>\n",
              "      <th>1</th>\n",
              "      <td>CGF-PLS13</td>\n",
              "      <td>2017</td>\n",
              "      <td>N</td>\n",
              "      <td>0</td>\n",
              "      <td>5</td>\n",
              "      <td>0</td>\n",
              "      <td>0</td>\n",
              "      <td>0</td>\n",
              "      <td>NaN</td>\n",
              "      <td>es_4238</td>\n",
              "    </tr>\n",
              "    <tr>\n",
              "      <th>2</th>\n",
              "      <td>ELE-PLS13</td>\n",
              "      <td>2017</td>\n",
              "      <td>S</td>\n",
              "      <td>2016</td>\n",
              "      <td>0</td>\n",
              "      <td>0</td>\n",
              "      <td>0</td>\n",
              "      <td>0</td>\n",
              "      <td>1F-1,2F-2</td>\n",
              "      <td>es_4245</td>\n",
              "    </tr>\n",
              "    <tr>\n",
              "      <th>3</th>\n",
              "      <td>CIV-PLS13</td>\n",
              "      <td>2017</td>\n",
              "      <td>N</td>\n",
              "      <td>0</td>\n",
              "      <td>0</td>\n",
              "      <td>0</td>\n",
              "      <td>0</td>\n",
              "      <td>0</td>\n",
              "      <td>NaN</td>\n",
              "      <td>es_4967</td>\n",
              "    </tr>\n",
              "    <tr>\n",
              "      <th>4</th>\n",
              "      <td>CGF-PLS13</td>\n",
              "      <td>2017</td>\n",
              "      <td>S</td>\n",
              "      <td>2017</td>\n",
              "      <td>21</td>\n",
              "      <td>10</td>\n",
              "      <td>0</td>\n",
              "      <td>0</td>\n",
              "      <td>3F-C-3</td>\n",
              "      <td>es_414</td>\n",
              "    </tr>\n",
              "  </tbody>\n",
              "</table>\n",
              "</div>"
            ],
            "text/plain": [
              "   CodCarSec  Anho Aprobado  ...  SegundoRec  NotaFinal  id_anony\n",
              "0  ELE-PLS13  2017        N  ...           0        NaN   es_1444\n",
              "1  CGF-PLS13  2017        N  ...           0        NaN   es_4238\n",
              "2  ELE-PLS13  2017        S  ...           0  1F-1,2F-2   es_4245\n",
              "3  CIV-PLS13  2017        N  ...           0        NaN   es_4967\n",
              "4  CGF-PLS13  2017        S  ...           0     3F-C-3    es_414\n",
              "\n",
              "[5 rows x 10 columns]"
            ]
          },
          "metadata": {
            "tags": []
          },
          "execution_count": 82
        }
      ]
    },
    {
      "cell_type": "markdown",
      "metadata": {
        "id": "CIkOdrckAWd0"
      },
      "source": [
        "**Reemplazamos las salidas por 1 o 0, las carreras por codigos**"
      ]
    },
    {
      "cell_type": "code",
      "metadata": {
        "colab": {
          "base_uri": "https://localhost:8080/",
          "height": 195
        },
        "id": "-GikADbksMPw",
        "outputId": "a3d582d2-9ac1-4960-b2d4-e10e118cdffe"
      },
      "source": [
        "df['Aprobado']=df['Aprobado'].replace(['N', 'S'],['0', '1'])\r\n",
        "df['CodCarSec']=df['CodCarSec'].replace(['ELE-PLS13', 'CGF-PLS13', 'CIV-PLS13', 'MCT-PLS13', 'IND-PLS13', 'MEC-PLS13', 'ECA-PLS13'],['0', '1', '2', '3', '4', '5', '6'])\r\n",
        "df = df.fillna(0)\r\n",
        "df.head()"
      ],
      "execution_count": null,
      "outputs": [
        {
          "output_type": "execute_result",
          "data": {
            "text/html": [
              "<div>\n",
              "<style scoped>\n",
              "    .dataframe tbody tr th:only-of-type {\n",
              "        vertical-align: middle;\n",
              "    }\n",
              "\n",
              "    .dataframe tbody tr th {\n",
              "        vertical-align: top;\n",
              "    }\n",
              "\n",
              "    .dataframe thead th {\n",
              "        text-align: right;\n",
              "    }\n",
              "</style>\n",
              "<table border=\"1\" class=\"dataframe\">\n",
              "  <thead>\n",
              "    <tr style=\"text-align: right;\">\n",
              "      <th></th>\n",
              "      <th>CodCarSec</th>\n",
              "      <th>Anho</th>\n",
              "      <th>Aprobado</th>\n",
              "      <th>AnhoFirma</th>\n",
              "      <th>PrimerPar</th>\n",
              "      <th>SegundoPar</th>\n",
              "      <th>Primer.Rec</th>\n",
              "      <th>SegundoRec</th>\n",
              "      <th>NotaFinal</th>\n",
              "      <th>id_anony</th>\n",
              "    </tr>\n",
              "  </thead>\n",
              "  <tbody>\n",
              "    <tr>\n",
              "      <th>0</th>\n",
              "      <td>0</td>\n",
              "      <td>2017</td>\n",
              "      <td>0</td>\n",
              "      <td>0</td>\n",
              "      <td>7</td>\n",
              "      <td>0</td>\n",
              "      <td>0</td>\n",
              "      <td>0</td>\n",
              "      <td>0</td>\n",
              "      <td>es_1444</td>\n",
              "    </tr>\n",
              "    <tr>\n",
              "      <th>1</th>\n",
              "      <td>1</td>\n",
              "      <td>2017</td>\n",
              "      <td>0</td>\n",
              "      <td>0</td>\n",
              "      <td>5</td>\n",
              "      <td>0</td>\n",
              "      <td>0</td>\n",
              "      <td>0</td>\n",
              "      <td>0</td>\n",
              "      <td>es_4238</td>\n",
              "    </tr>\n",
              "    <tr>\n",
              "      <th>2</th>\n",
              "      <td>0</td>\n",
              "      <td>2017</td>\n",
              "      <td>1</td>\n",
              "      <td>2016</td>\n",
              "      <td>0</td>\n",
              "      <td>0</td>\n",
              "      <td>0</td>\n",
              "      <td>0</td>\n",
              "      <td>1F-1,2F-2</td>\n",
              "      <td>es_4245</td>\n",
              "    </tr>\n",
              "    <tr>\n",
              "      <th>3</th>\n",
              "      <td>2</td>\n",
              "      <td>2017</td>\n",
              "      <td>0</td>\n",
              "      <td>0</td>\n",
              "      <td>0</td>\n",
              "      <td>0</td>\n",
              "      <td>0</td>\n",
              "      <td>0</td>\n",
              "      <td>0</td>\n",
              "      <td>es_4967</td>\n",
              "    </tr>\n",
              "    <tr>\n",
              "      <th>4</th>\n",
              "      <td>1</td>\n",
              "      <td>2017</td>\n",
              "      <td>1</td>\n",
              "      <td>2017</td>\n",
              "      <td>21</td>\n",
              "      <td>10</td>\n",
              "      <td>0</td>\n",
              "      <td>0</td>\n",
              "      <td>3F-C-3</td>\n",
              "      <td>es_414</td>\n",
              "    </tr>\n",
              "  </tbody>\n",
              "</table>\n",
              "</div>"
            ],
            "text/plain": [
              "  CodCarSec  Anho Aprobado  ...  SegundoRec  NotaFinal  id_anony\n",
              "0         0  2017        0  ...           0          0   es_1444\n",
              "1         1  2017        0  ...           0          0   es_4238\n",
              "2         0  2017        1  ...           0  1F-1,2F-2   es_4245\n",
              "3         2  2017        0  ...           0          0   es_4967\n",
              "4         1  2017        1  ...           0     3F-C-3    es_414\n",
              "\n",
              "[5 rows x 10 columns]"
            ]
          },
          "metadata": {
            "tags": []
          },
          "execution_count": 57
        }
      ]
    },
    {
      "cell_type": "code",
      "metadata": {
        "id": "yklqsa4T0z32"
      },
      "source": [
        "df[df.AnhoFirma == df.Anho]"
      ],
      "execution_count": null,
      "outputs": []
    },
    {
      "cell_type": "markdown",
      "metadata": {
        "id": "aLosDOe4ArRY"
      },
      "source": [
        "**Descartamos columnas para facilitar analisis inicial**\r\n",
        "\r\n",
        "---\r\n",
        "Solo tenemos en cuenta el rendimiento de primer, segundo parcial y carrera\r\n"
      ]
    },
    {
      "cell_type": "code",
      "metadata": {
        "colab": {
          "base_uri": "https://localhost:8080/"
        },
        "id": "0ajLyx2uo6NP",
        "outputId": "4dee13b2-5f01-4a58-f007-e8d52dc113d2"
      },
      "source": [
        "X = np.array(df.drop(['NotaFinal', 'Anho','id_anony','Primer.Rec', 'SegundoRec','AnhoFirma','Aprobado'], axis=1))\r\n",
        "y = np.array(df['Aprobado'])\r\n",
        "X.shape\r\n"
      ],
      "execution_count": null,
      "outputs": [
        {
          "output_type": "execute_result",
          "data": {
            "text/plain": [
              "(451, 3)"
            ]
          },
          "metadata": {
            "tags": []
          },
          "execution_count": 62
        }
      ]
    },
    {
      "cell_type": "code",
      "metadata": {
        "id": "m6X1GZgugfgC"
      },
      "source": [
        "model = linear_model.LogisticRegression()\r\n",
        "model.fit(X,y)"
      ],
      "execution_count": null,
      "outputs": []
    },
    {
      "cell_type": "markdown",
      "metadata": {
        "id": "d05Cd46rHjwV"
      },
      "source": [
        ""
      ]
    },
    {
      "cell_type": "code",
      "metadata": {
        "colab": {
          "base_uri": "https://localhost:8080/"
        },
        "id": "xPtl_s5v-L_G",
        "outputId": "e4ddc61b-a22d-4e4b-f377-9a5ffcd2edc5"
      },
      "source": [
        "predictions = model.predict(X)\r\n",
        "print(predictions)"
      ],
      "execution_count": null,
      "outputs": [
        {
          "output_type": "stream",
          "text": [
            "['0' '0' '0' '0' '1' '0' '0' '0' '0' '1' '1' '1' '0' '1' '0' '0' '1' '0'\n",
            " '1' '1' '1' '0' '1' '1' '1' '0' '0' '1' '1' '0' '1' '0' '1' '1' '0' '1'\n",
            " '1' '0' '0' '0' '0' '0' '1' '1' '1' '0' '1' '1' '1' '1' '1' '0' '1' '1'\n",
            " '1' '0' '0' '1' '0' '1' '1' '1' '1' '1' '1' '1' '1' '1' '1' '1' '1' '1'\n",
            " '1' '0' '1' '0' '1' '0' '0' '1' '1' '1' '0' '1' '1' '1' '0' '1' '1' '1'\n",
            " '1' '1' '1' '1' '1' '0' '1' '1' '1' '1' '1' '1' '1' '1' '1' '1' '1' '1'\n",
            " '0' '1' '1' '1' '1' '0' '0' '1' '1' '0' '1' '1' '1' '1' '0' '1' '1' '1'\n",
            " '1' '1' '1' '0' '1' '0' '0' '1' '0' '1' '1' '1' '0' '1' '1' '0' '1' '1'\n",
            " '1' '1' '1' '1' '1' '1' '0' '0' '1' '0' '0' '1' '1' '0' '1' '1' '0' '0'\n",
            " '1' '1' '1' '0' '1' '0' '1' '1' '1' '1' '0' '0' '1' '1' '1' '1' '1' '1'\n",
            " '1' '0' '1' '1' '0' '1' '1' '1' '1' '1' '1' '1' '1' '0' '1' '1' '1' '1'\n",
            " '0' '1' '1' '1' '1' '1' '1' '1' '1' '0' '1' '1' '1' '1' '1' '1' '0' '1'\n",
            " '1' '1' '1' '1' '1' '1' '1' '1' '1' '1' '1' '1' '1' '0' '1' '0' '1' '1'\n",
            " '1' '0' '1' '1' '1' '1' '1' '0' '1' '0' '0' '1' '0' '1' '0' '0' '0' '0'\n",
            " '0' '1' '1' '0' '1' '1' '1' '1' '1' '1' '1' '1' '0' '1' '0' '1' '0' '1'\n",
            " '1' '0' '0' '1' '1' '1' '0' '1' '1' '0' '0' '1' '1' '0' '0' '0' '1' '1'\n",
            " '0' '0' '1' '1' '0' '1' '1' '1' '1' '1' '1' '0' '1' '1' '0' '1' '0' '1'\n",
            " '1' '0' '1' '1' '1' '1' '1' '1' '0' '1' '0' '0' '1' '1' '1' '1' '1' '1'\n",
            " '1' '0' '1' '1' '0' '1' '0' '1' '1' '1' '1' '0' '1' '1' '1' '1' '1' '1'\n",
            " '1' '1' '1' '1' '0' '0' '1' '0' '1' '0' '0' '1' '1' '1' '1' '0' '0' '1'\n",
            " '1' '1' '0' '1' '1' '1' '0' '1' '1' '1' '1' '1' '1' '1' '1' '1' '0' '0'\n",
            " '1' '1' '1' '1' '1' '1' '1' '1' '1' '0' '1' '1' '1' '1' '1' '1' '0' '1'\n",
            " '0' '1' '0' '1' '1' '1' '0' '0' '1' '0' '1' '1' '1' '1' '1' '0' '1' '0'\n",
            " '1' '1' '1' '1' '1' '1' '1' '1' '1' '1' '1' '1' '0' '1' '0' '1' '1' '0'\n",
            " '1' '1' '1' '0' '0' '0' '0' '1' '1' '1' '1' '1' '1' '1' '1' '0' '1' '0'\n",
            " '0']\n"
          ],
          "name": "stdout"
        }
      ]
    },
    {
      "cell_type": "code",
      "metadata": {
        "colab": {
          "base_uri": "https://localhost:8080/"
        },
        "id": "5CnWC18_-Yjz",
        "outputId": "f9a126fd-bbca-4fee-a9ef-3957ae9eda4b"
      },
      "source": [
        "model.score(X,y)"
      ],
      "execution_count": null,
      "outputs": [
        {
          "output_type": "execute_result",
          "data": {
            "text/plain": [
              "0.7960088691796009"
            ]
          },
          "metadata": {
            "tags": []
          },
          "execution_count": 66
        }
      ]
    },
    {
      "cell_type": "code",
      "metadata": {
        "id": "siOgk3SUdHgg"
      },
      "source": [
        "#VALIDACION\r\n",
        "validation_size = 0.20\r\n",
        "seed = 7\r\n",
        "X_train, X_validation, Y_train, Y_validation = model_selection.train_test_split(X, y, test_size=validation_size, random_state=seed)\r\n"
      ],
      "execution_count": null,
      "outputs": []
    },
    {
      "cell_type": "code",
      "metadata": {
        "id": "2LSPbug3euHA"
      },
      "source": [
        "name='Logistic Regression'\r\n",
        "kfold = model_selection.KFold(n_splits=10, random_state=seed)\r\n",
        "cv_results = model_selection.cross_val_score(model, X_train, Y_train, cv=kfold, scoring='accuracy')\r\n",
        "msg = \"%s: %f (%f)\" % (name, cv_results.mean(), cv_results.std())\r\n",
        "print(msg)"
      ],
      "execution_count": null,
      "outputs": []
    },
    {
      "cell_type": "code",
      "metadata": {
        "colab": {
          "base_uri": "https://localhost:8080/"
        },
        "id": "jLmsaX7UfV7D",
        "outputId": "84143e2d-e931-49fb-bd23-b2830229c4e3"
      },
      "source": [
        "predictions = model.predict(X_validation)\r\n",
        "print(accuracy_score(Y_validation, predictions))"
      ],
      "execution_count": null,
      "outputs": [
        {
          "output_type": "stream",
          "text": [
            "0.7472527472527473\n"
          ],
          "name": "stdout"
        }
      ]
    },
    {
      "cell_type": "code",
      "metadata": {
        "colab": {
          "base_uri": "https://localhost:8080/"
        },
        "id": "q7ROam_e-yH4",
        "outputId": "2570e68a-cdd4-4789-f10b-353e49b8b36c"
      },
      "source": [
        "print(confusion_matrix(Y_validation, predictions))"
      ],
      "execution_count": null,
      "outputs": [
        {
          "output_type": "stream",
          "text": [
            "[[19 11]\n",
            " [12 49]]\n"
          ],
          "name": "stdout"
        }
      ]
    },
    {
      "cell_type": "markdown",
      "metadata": {
        "id": "y3j-mQe-_9WL"
      },
      "source": [
        "**Prueba** "
      ]
    },
    {
      "cell_type": "code",
      "metadata": {
        "colab": {
          "base_uri": "https://localhost:8080/"
        },
        "id": "U2jvxBSt_NaC",
        "outputId": "a3880def-f8c2-4fa1-8b46-6e7bd7cd6b94"
      },
      "source": [
        "X_new = pd.DataFrame({'Codcarsec': [3], 'PrimerPar': [0], 'SegundoPar': [24]})\r\n",
        "model.predict(X_new)"
      ],
      "execution_count": null,
      "outputs": [
        {
          "output_type": "execute_result",
          "data": {
            "text/plain": [
              "array(['1'], dtype=object)"
            ]
          },
          "metadata": {
            "tags": []
          },
          "execution_count": 78
        }
      ]
    },
    {
      "cell_type": "markdown",
      "metadata": {
        "id": "a_0XTWBLY3Ej"
      },
      "source": [
        "# Nueva sección"
      ]
    }
  ]
}