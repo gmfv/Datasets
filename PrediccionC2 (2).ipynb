{
  "nbformat": 4,
  "nbformat_minor": 0,
  "metadata": {
    "colab": {
      "name": "PrediccionC2.ipynb",
      "provenance": [],
      "collapsed_sections": []
    },
    "kernelspec": {
      "display_name": "Python 3",
      "name": "python3"
    }
  },
  "cells": [
    {
      "cell_type": "code",
      "metadata": {
        "id": "gRSSgB7AXidT"
      },
      "source": [
        "import pandas as pd\n",
        "import numpy as np\n",
        "from sklearn import linear_model\n",
        "from sklearn import model_selection\n",
        "from sklearn.metrics import classification_report\n",
        "from sklearn.metrics import confusion_matrix\n",
        "from sklearn.metrics import accuracy_score\n",
        "import matplotlib.pyplot as plt\n",
        "import seaborn as sb\n",
        "%matplotlib inline\n",
        "df = pd.read_csv(\"https://raw.githubusercontent.com/gmfv/YIO/main/datosfiltrados.csv\",index_col=0,skiprows=0)"
      ],
      "execution_count": 1,
      "outputs": []
    },
    {
      "cell_type": "markdown",
      "metadata": {
        "id": "maKGTB02AEyq"
      },
      "source": [
        " **Seleccionamos las columnas a utilizar**"
      ]
    },
    {
      "cell_type": "code",
      "metadata": {
        "colab": {
          "base_uri": "https://localhost:8080/",
          "height": 431
        },
        "id": "5AjpH2lwgiLc",
        "outputId": "57afad2a-57cf-4c09-c532-4e50d824da3c"
      },
      "source": [
        "copy_df=df.copy()\r\n",
        "#df = df.drop(df.columns[[0, 1, 2, 3, 5, 7, 12]], axis='columns')\r\n",
        "#df.head()\r\n",
        "copy_df=copy_df.set_index(\"id_anony\")\r\n",
        "copy_df=copy_df[copy_df[\"Asignatura\"] == \"CALCULO 2\"]\r\n",
        "columns_keep=[\"Cod.Car.Sec\",\"Anho\",\"Semestre\", \"Aprobado\", \"Anho.Firma\",\r\n",
        "              \"Primer.Par\", \"Segundo.Par\", \"AOT\"]\r\n",
        "copy_df=copy_df[columns_keep]\r\n",
        "copy_df#.head()"
      ],
      "execution_count": 3,
      "outputs": [
        {
          "output_type": "execute_result",
          "data": {
            "text/html": [
              "<div>\n",
              "<style scoped>\n",
              "    .dataframe tbody tr th:only-of-type {\n",
              "        vertical-align: middle;\n",
              "    }\n",
              "\n",
              "    .dataframe tbody tr th {\n",
              "        vertical-align: top;\n",
              "    }\n",
              "\n",
              "    .dataframe thead th {\n",
              "        text-align: right;\n",
              "    }\n",
              "</style>\n",
              "<table border=\"1\" class=\"dataframe\">\n",
              "  <thead>\n",
              "    <tr style=\"text-align: right;\">\n",
              "      <th></th>\n",
              "      <th>Cod.Car.Sec</th>\n",
              "      <th>Anho</th>\n",
              "      <th>Semestre</th>\n",
              "      <th>Aprobado</th>\n",
              "      <th>Anho.Firma</th>\n",
              "      <th>Primer.Par</th>\n",
              "      <th>Segundo.Par</th>\n",
              "      <th>AOT</th>\n",
              "    </tr>\n",
              "    <tr>\n",
              "      <th>id_anony</th>\n",
              "      <th></th>\n",
              "      <th></th>\n",
              "      <th></th>\n",
              "      <th></th>\n",
              "      <th></th>\n",
              "      <th></th>\n",
              "      <th></th>\n",
              "      <th></th>\n",
              "    </tr>\n",
              "  </thead>\n",
              "  <tbody>\n",
              "    <tr>\n",
              "      <th>es_1444</th>\n",
              "      <td>ELE-PLS13</td>\n",
              "      <td>2017</td>\n",
              "      <td>1</td>\n",
              "      <td>N</td>\n",
              "      <td>0</td>\n",
              "      <td>7</td>\n",
              "      <td>0</td>\n",
              "      <td>0</td>\n",
              "    </tr>\n",
              "    <tr>\n",
              "      <th>es_4238</th>\n",
              "      <td>CGF-PLS13</td>\n",
              "      <td>2017</td>\n",
              "      <td>1</td>\n",
              "      <td>N</td>\n",
              "      <td>0</td>\n",
              "      <td>5</td>\n",
              "      <td>0</td>\n",
              "      <td>0</td>\n",
              "    </tr>\n",
              "    <tr>\n",
              "      <th>es_4245</th>\n",
              "      <td>ELE-PLS13</td>\n",
              "      <td>2017</td>\n",
              "      <td>1</td>\n",
              "      <td>S</td>\n",
              "      <td>2016</td>\n",
              "      <td>0</td>\n",
              "      <td>0</td>\n",
              "      <td>0</td>\n",
              "    </tr>\n",
              "    <tr>\n",
              "      <th>es_4967</th>\n",
              "      <td>CIV-PLS13</td>\n",
              "      <td>2017</td>\n",
              "      <td>1</td>\n",
              "      <td>N</td>\n",
              "      <td>0</td>\n",
              "      <td>0</td>\n",
              "      <td>0</td>\n",
              "      <td>0</td>\n",
              "    </tr>\n",
              "    <tr>\n",
              "      <th>es_414</th>\n",
              "      <td>CGF-PLS13</td>\n",
              "      <td>2017</td>\n",
              "      <td>1</td>\n",
              "      <td>S</td>\n",
              "      <td>2017</td>\n",
              "      <td>21</td>\n",
              "      <td>10</td>\n",
              "      <td>0</td>\n",
              "    </tr>\n",
              "    <tr>\n",
              "      <th>...</th>\n",
              "      <td>...</td>\n",
              "      <td>...</td>\n",
              "      <td>...</td>\n",
              "      <td>...</td>\n",
              "      <td>...</td>\n",
              "      <td>...</td>\n",
              "      <td>...</td>\n",
              "      <td>...</td>\n",
              "    </tr>\n",
              "    <tr>\n",
              "      <th>es_9590</th>\n",
              "      <td>IND-PLS13</td>\n",
              "      <td>2019</td>\n",
              "      <td>2</td>\n",
              "      <td>N</td>\n",
              "      <td>0</td>\n",
              "      <td>5</td>\n",
              "      <td>4</td>\n",
              "      <td>2</td>\n",
              "    </tr>\n",
              "    <tr>\n",
              "      <th>es_9697</th>\n",
              "      <td>CIV-PLS13</td>\n",
              "      <td>2019</td>\n",
              "      <td>2</td>\n",
              "      <td>N</td>\n",
              "      <td>0</td>\n",
              "      <td>5</td>\n",
              "      <td>0</td>\n",
              "      <td>5</td>\n",
              "    </tr>\n",
              "    <tr>\n",
              "      <th>es_9437</th>\n",
              "      <td>CIV-PLS13</td>\n",
              "      <td>2019</td>\n",
              "      <td>2</td>\n",
              "      <td>N</td>\n",
              "      <td>0</td>\n",
              "      <td>0</td>\n",
              "      <td>0</td>\n",
              "      <td>0</td>\n",
              "    </tr>\n",
              "    <tr>\n",
              "      <th>es_9608</th>\n",
              "      <td>CIV-PLS13</td>\n",
              "      <td>2019</td>\n",
              "      <td>2</td>\n",
              "      <td>S</td>\n",
              "      <td>2019</td>\n",
              "      <td>11</td>\n",
              "      <td>14</td>\n",
              "      <td>10</td>\n",
              "    </tr>\n",
              "    <tr>\n",
              "      <th>es_9440</th>\n",
              "      <td>CIV-PLS13</td>\n",
              "      <td>2019</td>\n",
              "      <td>2</td>\n",
              "      <td>N</td>\n",
              "      <td>0</td>\n",
              "      <td>0</td>\n",
              "      <td>0</td>\n",
              "      <td>0</td>\n",
              "    </tr>\n",
              "  </tbody>\n",
              "</table>\n",
              "<p>1587 rows × 8 columns</p>\n",
              "</div>"
            ],
            "text/plain": [
              "         Cod.Car.Sec  Anho  Semestre  ... Primer.Par  Segundo.Par  AOT\n",
              "id_anony                              ...                             \n",
              "es_1444   ELE-PLS13   2017         1  ...          7            0    0\n",
              "es_4238   CGF-PLS13   2017         1  ...          5            0    0\n",
              "es_4245   ELE-PLS13   2017         1  ...          0            0    0\n",
              "es_4967   CIV-PLS13   2017         1  ...          0            0    0\n",
              "es_414    CGF-PLS13   2017         1  ...         21           10    0\n",
              "...              ...   ...       ...  ...        ...          ...  ...\n",
              "es_9590   IND-PLS13   2019         2  ...          5            4    2\n",
              "es_9697   CIV-PLS13   2019         2  ...          5            0    5\n",
              "es_9437   CIV-PLS13   2019         2  ...          0            0    0\n",
              "es_9608   CIV-PLS13   2019         2  ...         11           14   10\n",
              "es_9440   CIV-PLS13   2019         2  ...          0            0    0\n",
              "\n",
              "[1587 rows x 8 columns]"
            ]
          },
          "metadata": {
            "tags": []
          },
          "execution_count": 3
        }
      ]
    },
    {
      "cell_type": "markdown",
      "metadata": {
        "id": "CIkOdrckAWd0"
      },
      "source": [
        "**Reemplazamos las salidas (Si aprobo o no) por 1 o 0, las carreras por códigos**"
      ]
    },
    {
      "cell_type": "code",
      "metadata": {
        "colab": {
          "base_uri": "https://localhost:8080/"
        },
        "id": "-GikADbksMPw",
        "outputId": "0e96620f-6c68-4d8f-ec6d-5ee45ad893ca"
      },
      "source": [
        "copy_df['Aprobado']=copy_df['Aprobado'].replace(['N', 'S'],['0', '1'])\n",
        "carreras=pd.Series(['0', '1', '2', '3', '4', '5', '6', '7', '8','9'],index=[copy_df['Cod.Car.Sec'].unique()])\n",
        "#copy_df['Cod.Car.Sec']=copy_df['Cod.Car.Sec'].replace(copy_df['Cod.Car.Sec'].unique(),['0', '1', '2', '3', '4', '5', '6', '7', '8','9'])\n",
        "copy_df['Cod.Car.Sec']=copy_df['Cod.Car.Sec'].replace(carreras)\n",
        "#copy_df = copy_df.fillna(0)\n",
        "copy_df#.head()\n",
        "carreras"
      ],
      "execution_count": 4,
      "outputs": [
        {
          "output_type": "execute_result",
          "data": {
            "text/plain": [
              "ELE-PLS13     0\n",
              "CGF-PLS13     1\n",
              "CIV-PLS13     2\n",
              "MCT-PLS13     3\n",
              "ECA-PLS13     4\n",
              "IND-PLS13     5\n",
              "MEC-PLS13     6\n",
              "ELE-PLS09     7\n",
              "IND-PLS09     8\n",
              "CIV-PLS09     9\n",
              "dtype: object"
            ]
          },
          "metadata": {
            "tags": []
          },
          "execution_count": 4
        }
      ]
    },
    {
      "cell_type": "markdown",
      "metadata": {
        "id": "aLosDOe4ArRY"
      },
      "source": [
        "**Descartamos columnas para facilitar analisis inicial**\r\n",
        "\r\n",
        "---\r\n",
        "Solo tenemos en cuenta el rendimiento de primer, segundo parcial y taller\r\n"
      ]
    },
    {
      "cell_type": "code",
      "metadata": {
        "id": "0ajLyx2uo6NP"
      },
      "source": [
        "X = np.array(copy_df.drop(['Cod.Car.Sec', 'Anho','Semestre','Anho.Firma','Aprobado'], axis=1))\r\n",
        "y = np.array(copy_df['Aprobado'])"
      ],
      "execution_count": 5,
      "outputs": []
    },
    {
      "cell_type": "code",
      "metadata": {
        "colab": {
          "base_uri": "https://localhost:8080/"
        },
        "id": "m6X1GZgugfgC",
        "outputId": "8b164a96-b486-474d-946f-25c039eaa057"
      },
      "source": [
        "model = linear_model.LogisticRegression()\r\n",
        "model.fit(X,y)"
      ],
      "execution_count": 6,
      "outputs": [
        {
          "output_type": "execute_result",
          "data": {
            "text/plain": [
              "LogisticRegression(C=1.0, class_weight=None, dual=False, fit_intercept=True,\n",
              "                   intercept_scaling=1, l1_ratio=None, max_iter=100,\n",
              "                   multi_class='auto', n_jobs=None, penalty='l2',\n",
              "                   random_state=None, solver='lbfgs', tol=0.0001, verbose=0,\n",
              "                   warm_start=False)"
            ]
          },
          "metadata": {
            "tags": []
          },
          "execution_count": 6
        }
      ]
    },
    {
      "cell_type": "code",
      "metadata": {
        "colab": {
          "base_uri": "https://localhost:8080/"
        },
        "id": "xPtl_s5v-L_G",
        "outputId": "b399bf5b-dd1d-4c6a-843c-083bbc01d8ca"
      },
      "source": [
        "predictions = model.predict(X)\r\n",
        "print(predictions)"
      ],
      "execution_count": 7,
      "outputs": [
        {
          "output_type": "stream",
          "text": [
            "['0' '0' '0' ... '0' '0' '0']\n"
          ],
          "name": "stdout"
        }
      ]
    },
    {
      "cell_type": "markdown",
      "metadata": {
        "id": "Q9Sb4uUuz0sf"
      },
      "source": [
        "Precision media de:"
      ]
    },
    {
      "cell_type": "code",
      "metadata": {
        "colab": {
          "base_uri": "https://localhost:8080/"
        },
        "id": "5CnWC18_-Yjz",
        "outputId": "6af08a09-0090-44e9-8a08-eee4b4d2dc95"
      },
      "source": [
        "model.score(X,y)"
      ],
      "execution_count": 8,
      "outputs": [
        {
          "output_type": "execute_result",
          "data": {
            "text/plain": [
              "0.8090737240075614"
            ]
          },
          "metadata": {
            "tags": []
          },
          "execution_count": 8
        }
      ]
    },
    {
      "cell_type": "markdown",
      "metadata": {
        "id": "9ywCdOjPucjh"
      },
      "source": [
        "# **VALIDACION**"
      ]
    },
    {
      "cell_type": "markdown",
      "metadata": {
        "id": "cE2Mc_40vipi"
      },
      "source": [
        "Dividimos nuestros datos en una seccion para entrenar y otra para validar"
      ]
    },
    {
      "cell_type": "code",
      "metadata": {
        "id": "siOgk3SUdHgg"
      },
      "source": [
        "validation_size = 0.20\n",
        "seed = 23\n",
        "X_train, X_validation, Y_train, Y_validation = model_selection.train_test_split(X, y, test_size=validation_size, random_state=seed)"
      ],
      "execution_count": 9,
      "outputs": []
    },
    {
      "cell_type": "markdown",
      "metadata": {
        "id": "yPd5FA-ou8FW"
      },
      "source": [
        "Entrenamos a nuestro modelo con el 80% de los datos. Obteniendo una media de exactitud y desviación estandar que se imprimen en pantalla"
      ]
    },
    {
      "cell_type": "code",
      "metadata": {
        "colab": {
          "base_uri": "https://localhost:8080/"
        },
        "id": "2LSPbug3euHA",
        "outputId": "8913e747-9af1-44fb-d54b-2ca27711d613"
      },
      "source": [
        "name='Logistic Regression'\r\n",
        "kfold = model_selection.KFold(n_splits=10, random_state=seed)\r\n",
        "cv_results = model_selection.cross_val_score(model, X_train, Y_train, cv=kfold, scoring='accuracy')\r\n",
        "msg = \"%s: %f (%f)\" % (name, cv_results.mean(), cv_results.std())\r\n",
        "print(msg)"
      ],
      "execution_count": 10,
      "outputs": [
        {
          "output_type": "stream",
          "text": [
            "Logistic Regression: 0.814817 (0.032689)\n"
          ],
          "name": "stdout"
        },
        {
          "output_type": "stream",
          "text": [
            "/usr/local/lib/python3.7/dist-packages/sklearn/model_selection/_split.py:296: FutureWarning: Setting a random_state has no effect since shuffle is False. This will raise an error in 0.24. You should leave random_state to its default (None), or set shuffle=True.\n",
            "  FutureWarning\n"
          ],
          "name": "stderr"
        }
      ]
    },
    {
      "cell_type": "code",
      "metadata": {
        "colab": {
          "base_uri": "https://localhost:8080/"
        },
        "id": "jLmsaX7UfV7D",
        "outputId": "90b79c26-66b3-46eb-cdda-db3374d9dbdc"
      },
      "source": [
        "predictions = model.predict(X_validation)\r\n",
        "print(accuracy_score(Y_validation, predictions))"
      ],
      "execution_count": 11,
      "outputs": [
        {
          "output_type": "stream",
          "text": [
            "0.8050314465408805\n"
          ],
          "name": "stdout"
        }
      ]
    },
    {
      "cell_type": "markdown",
      "metadata": {
        "id": "hdH8q9LLxDiO"
      },
      "source": [
        "Tener en cuenta que la cantidad de datos reservados para la validacion era pequena en comparacion"
      ]
    },
    {
      "cell_type": "markdown",
      "metadata": {
        "id": "y3j-mQe-_9WL"
      },
      "source": [
        "# **Prueba** "
      ]
    },
    {
      "cell_type": "code",
      "metadata": {
        "colab": {
          "base_uri": "https://localhost:8080/"
        },
        "id": "U2jvxBSt_NaC",
        "outputId": "20fbe1b6-75fd-4e72-c7c4-0d030313bcf6"
      },
      "source": [
        "X_new = pd.DataFrame({'Primer.Par': [15], 'Segundo.Par': [24], 'AOT': [4]})\r\n",
        "model.predict(X_new)"
      ],
      "execution_count": null,
      "outputs": [
        {
          "output_type": "execute_result",
          "data": {
            "text/plain": [
              "array(['1'], dtype=object)"
            ]
          },
          "metadata": {
            "tags": []
          },
          "execution_count": 13
        }
      ]
    },
    {
      "cell_type": "markdown",
      "metadata": {
        "id": "a_0XTWBLY3Ej"
      },
      "source": [
        "## **Comparación de precisión por carrera**"
      ]
    },
    {
      "cell_type": "code",
      "metadata": {
        "id": "0OQFfl4nNW9B"
      },
      "source": [
        "accuracy=[]\r\n",
        "mc=np.zeros(4)\r\n",
        "for i in range(7):\r\n",
        "  datfriend = copy_df[copy_df['Cod.Car.Sec']== str(i)]\r\n",
        "\r\n",
        "  if (i == 0):\r\n",
        "    datfriend = pd.concat([datfriend, copy_df[copy_df['Cod.Car.Sec']== str(7)]], axis=0)\r\n",
        "  elif (i == 2):\r\n",
        "    datfriend = pd.concat([datfriend, copy_df[copy_df['Cod.Car.Sec']== str(9)]], axis=0)\r\n",
        "  elif (i == 5):\r\n",
        "    datfriend = pd.concat([datfriend, copy_df[copy_df['Cod.Car.Sec']== str(8)]], axis=0)\r\n",
        "\r\n",
        "  X = np.array(datfriend.drop(['Cod.Car.Sec', 'Anho','Semestre','Anho.Firma','Aprobado'], axis=1))\r\n",
        "  y = np.array(datfriend['Aprobado'])\r\n",
        "  model = linear_model.LogisticRegression()\r\n",
        "  model.fit(X,y)\r\n",
        "  X_train, X_validation, Y_train, Y_validation = model_selection.train_test_split(X, y, test_size=0.5)\r\n",
        "  kfold = model_selection.KFold(n_splits=10)\r\n",
        "  cv_results = model_selection.cross_val_score(model, X_train, Y_train, cv=kfold, scoring='accuracy')\r\n",
        "  predictions = model.predict(X_validation)\r\n",
        "  accuracy.append(accuracy_score(Y_validation, predictions))\r\n",
        "  matrizdeconfusion= confusion_matrix(Y_validation, predictions)\r\n",
        "  matrizdeconfusion = matrizdeconfusion.flatten()   #Convertimos la matriz de confusion a 1 dimension \r\n",
        "  mc=np.vstack((mc,matrizdeconfusion)) #Colocamos al final de la matriz que recolecta los TT, FT, TF, FF de las carreras\r\n",
        "accuracy = np.array(accuracy) #Convertimos la lista a un arreglos numpy, esto era porque queria intentar concater la matriz mc y el de accuracy, pero no pude todavia gg\r\n",
        "mc=np.delete(mc, 0, axis=0) #Inicialmente la matriz mc se creo con ceros, que al final se eliminan, se podria encontrar la forma de obviar este paso, pero me daba error si no definia el tipo\r\n"
      ],
      "execution_count": 51,
      "outputs": []
    },
    {
      "cell_type": "markdown",
      "metadata": {
        "id": "eunueccIDz2n"
      },
      "source": [
        "**Convertimos los arreglos en Dataframes y concatenamos ambos**"
      ]
    },
    {
      "cell_type": "code",
      "metadata": {
        "colab": {
          "base_uri": "https://localhost:8080/",
          "height": 254
        },
        "id": "vurPXy6963Vj",
        "outputId": "e6106cdb-781d-4a9b-f554-e333c3b45a3a"
      },
      "source": [
        "datinha=pd.DataFrame(mc, index=['ELE', 'CGF', 'CIV', 'MCT', 'ECA', 'IND', 'MEC'], columns=['FF', 'FT', 'TF', 'TT'])\r\n",
        "datinha2=pd.DataFrame(accuracy, index=['ELE', 'CGF', 'CIV', 'MCT', 'ECA', 'IND', 'MEC'], columns=['Accuracy'])\r\n",
        "pd.concat([datinha, datinha2], axis=1)"
      ],
      "execution_count": 57,
      "outputs": [
        {
          "output_type": "execute_result",
          "data": {
            "text/html": [
              "<div>\n",
              "<style scoped>\n",
              "    .dataframe tbody tr th:only-of-type {\n",
              "        vertical-align: middle;\n",
              "    }\n",
              "\n",
              "    .dataframe tbody tr th {\n",
              "        vertical-align: top;\n",
              "    }\n",
              "\n",
              "    .dataframe thead th {\n",
              "        text-align: right;\n",
              "    }\n",
              "</style>\n",
              "<table border=\"1\" class=\"dataframe\">\n",
              "  <thead>\n",
              "    <tr style=\"text-align: right;\">\n",
              "      <th></th>\n",
              "      <th>FF</th>\n",
              "      <th>FT</th>\n",
              "      <th>TF</th>\n",
              "      <th>TT</th>\n",
              "      <th>Accuracy</th>\n",
              "    </tr>\n",
              "  </thead>\n",
              "  <tbody>\n",
              "    <tr>\n",
              "      <th>ELE</th>\n",
              "      <td>76.0</td>\n",
              "      <td>15.0</td>\n",
              "      <td>14.0</td>\n",
              "      <td>88.0</td>\n",
              "      <td>0.849741</td>\n",
              "    </tr>\n",
              "    <tr>\n",
              "      <th>CGF</th>\n",
              "      <td>27.0</td>\n",
              "      <td>0.0</td>\n",
              "      <td>2.0</td>\n",
              "      <td>4.0</td>\n",
              "      <td>0.939394</td>\n",
              "    </tr>\n",
              "    <tr>\n",
              "      <th>CIV</th>\n",
              "      <td>131.0</td>\n",
              "      <td>33.0</td>\n",
              "      <td>29.0</td>\n",
              "      <td>162.0</td>\n",
              "      <td>0.825352</td>\n",
              "    </tr>\n",
              "    <tr>\n",
              "      <th>MCT</th>\n",
              "      <td>30.0</td>\n",
              "      <td>6.0</td>\n",
              "      <td>6.0</td>\n",
              "      <td>47.0</td>\n",
              "      <td>0.865169</td>\n",
              "    </tr>\n",
              "    <tr>\n",
              "      <th>ECA</th>\n",
              "      <td>12.0</td>\n",
              "      <td>2.0</td>\n",
              "      <td>2.0</td>\n",
              "      <td>11.0</td>\n",
              "      <td>0.851852</td>\n",
              "    </tr>\n",
              "    <tr>\n",
              "      <th>IND</th>\n",
              "      <td>25.0</td>\n",
              "      <td>8.0</td>\n",
              "      <td>7.0</td>\n",
              "      <td>26.0</td>\n",
              "      <td>0.772727</td>\n",
              "    </tr>\n",
              "    <tr>\n",
              "      <th>MEC</th>\n",
              "      <td>12.0</td>\n",
              "      <td>5.0</td>\n",
              "      <td>2.0</td>\n",
              "      <td>14.0</td>\n",
              "      <td>0.787879</td>\n",
              "    </tr>\n",
              "  </tbody>\n",
              "</table>\n",
              "</div>"
            ],
            "text/plain": [
              "        FF    FT    TF     TT  Accuracy\n",
              "ELE   76.0  15.0  14.0   88.0  0.849741\n",
              "CGF   27.0   0.0   2.0    4.0  0.939394\n",
              "CIV  131.0  33.0  29.0  162.0  0.825352\n",
              "MCT   30.0   6.0   6.0   47.0  0.865169\n",
              "ECA   12.0   2.0   2.0   11.0  0.851852\n",
              "IND   25.0   8.0   7.0   26.0  0.772727\n",
              "MEC   12.0   5.0   2.0   14.0  0.787879"
            ]
          },
          "metadata": {
            "tags": []
          },
          "execution_count": 57
        }
      ]
    }
  ]
}