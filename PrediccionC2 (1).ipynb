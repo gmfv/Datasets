{
  "nbformat": 4,
  "nbformat_minor": 0,
  "metadata": {
    "colab": {
      "name": "PrediccionC2.ipynb",
      "provenance": [],
      "collapsed_sections": []
    },
    "kernelspec": {
      "display_name": "Python 3",
      "name": "python3"
    }
  },
  "cells": [
    {
      "cell_type": "code",
      "metadata": {
        "id": "gRSSgB7AXidT"
      },
      "source": [
        "import pandas as pd\n",
        "import numpy as np\n",
        "from sklearn import linear_model\n",
        "from sklearn import model_selection\n",
        "from sklearn.metrics import classification_report\n",
        "from sklearn.metrics import confusion_matrix\n",
        "from sklearn.metrics import accuracy_score\n",
        "import matplotlib.pyplot as plt\n",
        "import seaborn as sb\n",
        "%matplotlib inline\n",
        "df = pd.read_csv(\"https://raw.githubusercontent.com/gmfv/YIO/main/datosfiltrados.csv\",index_col=0,skiprows=0)"
      ],
      "execution_count": 96,
      "outputs": []
    },
    {
      "cell_type": "markdown",
      "metadata": {
        "id": "maKGTB02AEyq"
      },
      "source": [
        " **Eliminamos algunas columnas**"
      ]
    },
    {
      "cell_type": "code",
      "metadata": {
        "id": "5AjpH2lwgiLc"
      },
      "source": [
        "copy_df=df.copy()\r\n",
        "#df = df.drop(df.columns[[0, 1, 2, 3, 5, 7, 12]], axis='columns')\r\n",
        "#df.head()\r\n",
        "copy_df=copy_df.set_index(\"id_anony\")\r\n",
        "copy_df=copy_df[copy_df[\"Asignatura\"] == \"CALCULO 2\"]\r\n",
        "columns_keep=[\"Cod.Car.Sec\",\"Anho\",\"Semestre\", \"Aprobado\", \"Anho.Firma\",\r\n",
        "              \"Primer.Par\", \"Segundo.Par\", \"AOT\"]\r\n",
        "copy_df=copy_df[columns_keep]\r\n",
        "copy_df#.head()"
      ],
      "execution_count": null,
      "outputs": []
    },
    {
      "cell_type": "markdown",
      "metadata": {
        "id": "CIkOdrckAWd0"
      },
      "source": [
        "**Reemplazamos las salidas por 1 o 0, las carreras por codigos**"
      ]
    },
    {
      "cell_type": "code",
      "metadata": {
        "colab": {
          "base_uri": "https://localhost:8080/",
          "height": 431
        },
        "id": "-GikADbksMPw",
        "outputId": "4231b32f-1339-4e2b-be8e-8ae3cefad736"
      },
      "source": [
        "copy_df['Aprobado']=copy_df['Aprobado'].replace(['N', 'S'],['0', '1'])\n",
        "carreras=pd.Series(['0', '1', '2', '3', '4', '5', '6', '7', '8','9'],index=[copy_df['Cod.Car.Sec'].unique()])\n",
        "#copy_df['Cod.Car.Sec']=copy_df['Cod.Car.Sec'].replace(copy_df['Cod.Car.Sec'].unique(),['0', '1', '2', '3', '4', '5', '6', '7', '8','9'])\n",
        "copy_df['Cod.Car.Sec']=copy_df['Cod.Car.Sec'].replace(carreras)\n",
        "#copy_df = copy_df.fillna(0)\n",
        "copy_df#.head()"
      ],
      "execution_count": 100,
      "outputs": [
        {
          "output_type": "execute_result",
          "data": {
            "text/html": [
              "<div>\n",
              "<style scoped>\n",
              "    .dataframe tbody tr th:only-of-type {\n",
              "        vertical-align: middle;\n",
              "    }\n",
              "\n",
              "    .dataframe tbody tr th {\n",
              "        vertical-align: top;\n",
              "    }\n",
              "\n",
              "    .dataframe thead th {\n",
              "        text-align: right;\n",
              "    }\n",
              "</style>\n",
              "<table border=\"1\" class=\"dataframe\">\n",
              "  <thead>\n",
              "    <tr style=\"text-align: right;\">\n",
              "      <th></th>\n",
              "      <th>Cod.Car.Sec</th>\n",
              "      <th>Anho</th>\n",
              "      <th>Semestre</th>\n",
              "      <th>Aprobado</th>\n",
              "      <th>Anho.Firma</th>\n",
              "      <th>Primer.Par</th>\n",
              "      <th>Segundo.Par</th>\n",
              "      <th>AOT</th>\n",
              "    </tr>\n",
              "    <tr>\n",
              "      <th>id_anony</th>\n",
              "      <th></th>\n",
              "      <th></th>\n",
              "      <th></th>\n",
              "      <th></th>\n",
              "      <th></th>\n",
              "      <th></th>\n",
              "      <th></th>\n",
              "      <th></th>\n",
              "    </tr>\n",
              "  </thead>\n",
              "  <tbody>\n",
              "    <tr>\n",
              "      <th>es_1444</th>\n",
              "      <td>0</td>\n",
              "      <td>2017</td>\n",
              "      <td>1</td>\n",
              "      <td>0</td>\n",
              "      <td>0</td>\n",
              "      <td>7</td>\n",
              "      <td>0</td>\n",
              "      <td>0</td>\n",
              "    </tr>\n",
              "    <tr>\n",
              "      <th>es_4238</th>\n",
              "      <td>1</td>\n",
              "      <td>2017</td>\n",
              "      <td>1</td>\n",
              "      <td>0</td>\n",
              "      <td>0</td>\n",
              "      <td>5</td>\n",
              "      <td>0</td>\n",
              "      <td>0</td>\n",
              "    </tr>\n",
              "    <tr>\n",
              "      <th>es_4245</th>\n",
              "      <td>0</td>\n",
              "      <td>2017</td>\n",
              "      <td>1</td>\n",
              "      <td>1</td>\n",
              "      <td>2016</td>\n",
              "      <td>0</td>\n",
              "      <td>0</td>\n",
              "      <td>0</td>\n",
              "    </tr>\n",
              "    <tr>\n",
              "      <th>es_4967</th>\n",
              "      <td>2</td>\n",
              "      <td>2017</td>\n",
              "      <td>1</td>\n",
              "      <td>0</td>\n",
              "      <td>0</td>\n",
              "      <td>0</td>\n",
              "      <td>0</td>\n",
              "      <td>0</td>\n",
              "    </tr>\n",
              "    <tr>\n",
              "      <th>es_414</th>\n",
              "      <td>1</td>\n",
              "      <td>2017</td>\n",
              "      <td>1</td>\n",
              "      <td>1</td>\n",
              "      <td>2017</td>\n",
              "      <td>21</td>\n",
              "      <td>10</td>\n",
              "      <td>0</td>\n",
              "    </tr>\n",
              "    <tr>\n",
              "      <th>...</th>\n",
              "      <td>...</td>\n",
              "      <td>...</td>\n",
              "      <td>...</td>\n",
              "      <td>...</td>\n",
              "      <td>...</td>\n",
              "      <td>...</td>\n",
              "      <td>...</td>\n",
              "      <td>...</td>\n",
              "    </tr>\n",
              "    <tr>\n",
              "      <th>es_9590</th>\n",
              "      <td>5</td>\n",
              "      <td>2019</td>\n",
              "      <td>2</td>\n",
              "      <td>0</td>\n",
              "      <td>0</td>\n",
              "      <td>5</td>\n",
              "      <td>4</td>\n",
              "      <td>2</td>\n",
              "    </tr>\n",
              "    <tr>\n",
              "      <th>es_9697</th>\n",
              "      <td>2</td>\n",
              "      <td>2019</td>\n",
              "      <td>2</td>\n",
              "      <td>0</td>\n",
              "      <td>0</td>\n",
              "      <td>5</td>\n",
              "      <td>0</td>\n",
              "      <td>5</td>\n",
              "    </tr>\n",
              "    <tr>\n",
              "      <th>es_9437</th>\n",
              "      <td>2</td>\n",
              "      <td>2019</td>\n",
              "      <td>2</td>\n",
              "      <td>0</td>\n",
              "      <td>0</td>\n",
              "      <td>0</td>\n",
              "      <td>0</td>\n",
              "      <td>0</td>\n",
              "    </tr>\n",
              "    <tr>\n",
              "      <th>es_9608</th>\n",
              "      <td>2</td>\n",
              "      <td>2019</td>\n",
              "      <td>2</td>\n",
              "      <td>1</td>\n",
              "      <td>2019</td>\n",
              "      <td>11</td>\n",
              "      <td>14</td>\n",
              "      <td>10</td>\n",
              "    </tr>\n",
              "    <tr>\n",
              "      <th>es_9440</th>\n",
              "      <td>2</td>\n",
              "      <td>2019</td>\n",
              "      <td>2</td>\n",
              "      <td>0</td>\n",
              "      <td>0</td>\n",
              "      <td>0</td>\n",
              "      <td>0</td>\n",
              "      <td>0</td>\n",
              "    </tr>\n",
              "  </tbody>\n",
              "</table>\n",
              "<p>1587 rows × 8 columns</p>\n",
              "</div>"
            ],
            "text/plain": [
              "         Cod.Car.Sec  Anho  Semestre  ... Primer.Par  Segundo.Par  AOT\n",
              "id_anony                              ...                             \n",
              "es_1444            0  2017         1  ...          7            0    0\n",
              "es_4238            1  2017         1  ...          5            0    0\n",
              "es_4245            0  2017         1  ...          0            0    0\n",
              "es_4967            2  2017         1  ...          0            0    0\n",
              "es_414             1  2017         1  ...         21           10    0\n",
              "...              ...   ...       ...  ...        ...          ...  ...\n",
              "es_9590            5  2019         2  ...          5            4    2\n",
              "es_9697            2  2019         2  ...          5            0    5\n",
              "es_9437            2  2019         2  ...          0            0    0\n",
              "es_9608            2  2019         2  ...         11           14   10\n",
              "es_9440            2  2019         2  ...          0            0    0\n",
              "\n",
              "[1587 rows x 8 columns]"
            ]
          },
          "metadata": {
            "tags": []
          },
          "execution_count": 100
        }
      ]
    },
    {
      "cell_type": "code",
      "metadata": {
        "id": "yklqsa4T0z32"
      },
      "source": [
        "df[df.AnhoFirma == df.Anho]"
      ],
      "execution_count": null,
      "outputs": []
    },
    {
      "cell_type": "markdown",
      "metadata": {
        "id": "aLosDOe4ArRY"
      },
      "source": [
        "**Descartamos columnas para facilitar analisis inicial**\r\n",
        "\r\n",
        "---\r\n",
        "Solo tenemos en cuenta el rendimiento de primer, segundo parcial y carrera\r\n"
      ]
    },
    {
      "cell_type": "code",
      "metadata": {
        "colab": {
          "base_uri": "https://localhost:8080/"
        },
        "id": "0ajLyx2uo6NP",
        "outputId": "7017676d-1ff9-4bb1-a25c-1fcdf8432e7e"
      },
      "source": [
        "X = np.array(copy_df.drop(['Cod.Car.Sec', 'Anho','Semestre','Anho.Firma','Aprobado'], axis=1))\r\n",
        "y = np.array(copy_df['Aprobado'])"
      ],
      "execution_count": 120,
      "outputs": [
        {
          "output_type": "execute_result",
          "data": {
            "text/plain": [
              "array([[ 7,  0,  0],\n",
              "       [ 5,  0,  0],\n",
              "       [ 0,  0,  0],\n",
              "       ...,\n",
              "       [ 0,  0,  0],\n",
              "       [11, 14, 10],\n",
              "       [ 0,  0,  0]])"
            ]
          },
          "metadata": {
            "tags": []
          },
          "execution_count": 120
        }
      ]
    },
    {
      "cell_type": "code",
      "metadata": {
        "id": "m6X1GZgugfgC",
        "colab": {
          "base_uri": "https://localhost:8080/"
        },
        "outputId": "baa2e443-287a-4589-e037-f2022c89b7ca"
      },
      "source": [
        "model = linear_model.LogisticRegression()\r\n",
        "model.fit(X,y)"
      ],
      "execution_count": 102,
      "outputs": [
        {
          "output_type": "execute_result",
          "data": {
            "text/plain": [
              "LogisticRegression(C=1.0, class_weight=None, dual=False, fit_intercept=True,\n",
              "                   intercept_scaling=1, l1_ratio=None, max_iter=100,\n",
              "                   multi_class='auto', n_jobs=None, penalty='l2',\n",
              "                   random_state=None, solver='lbfgs', tol=0.0001, verbose=0,\n",
              "                   warm_start=False)"
            ]
          },
          "metadata": {
            "tags": []
          },
          "execution_count": 102
        }
      ]
    },
    {
      "cell_type": "code",
      "metadata": {
        "colab": {
          "base_uri": "https://localhost:8080/"
        },
        "id": "xPtl_s5v-L_G",
        "outputId": "8106b597-9807-45e0-a74b-25a9e7017219"
      },
      "source": [
        "predictions = model.predict(X)\r\n",
        "print(predictions)"
      ],
      "execution_count": 103,
      "outputs": [
        {
          "output_type": "stream",
          "text": [
            "['0' '0' '0' ... '0' '0' '0']\n"
          ],
          "name": "stdout"
        }
      ]
    },
    {
      "cell_type": "markdown",
      "metadata": {
        "id": "Q9Sb4uUuz0sf"
      },
      "source": [
        "Precision media de:"
      ]
    },
    {
      "cell_type": "code",
      "metadata": {
        "colab": {
          "base_uri": "https://localhost:8080/"
        },
        "id": "5CnWC18_-Yjz",
        "outputId": "369f537c-08cf-4534-ade7-b63483dd2807"
      },
      "source": [
        "model.score(X,y)"
      ],
      "execution_count": 104,
      "outputs": [
        {
          "output_type": "execute_result",
          "data": {
            "text/plain": [
              "0.8090737240075614"
            ]
          },
          "metadata": {
            "tags": []
          },
          "execution_count": 104
        }
      ]
    },
    {
      "cell_type": "markdown",
      "metadata": {
        "id": "9ywCdOjPucjh"
      },
      "source": [
        "# **VALIDACION**"
      ]
    },
    {
      "cell_type": "markdown",
      "metadata": {
        "id": "cE2Mc_40vipi"
      },
      "source": [
        "Dividimos nuestros datos en una seccion para entrenar y otra para validar"
      ]
    },
    {
      "cell_type": "code",
      "metadata": {
        "id": "siOgk3SUdHgg"
      },
      "source": [
        "validation_size = 0.20\n",
        "seed = 23\n",
        "X_train, X_validation, Y_train, Y_validation = model_selection.train_test_split(X, y, test_size=validation_size, random_state=seed)"
      ],
      "execution_count": 112,
      "outputs": []
    },
    {
      "cell_type": "markdown",
      "metadata": {
        "id": "yPd5FA-ou8FW"
      },
      "source": [
        "Entrenamos a nuestro modelo con el 80% de los datos. Obteniendo una media de exactitud y desviacion estandar que se imprimen en pantalla"
      ]
    },
    {
      "cell_type": "code",
      "metadata": {
        "id": "2LSPbug3euHA",
        "colab": {
          "base_uri": "https://localhost:8080/"
        },
        "outputId": "eaeca06a-d8b9-4092-b804-db986a2d4292"
      },
      "source": [
        "name='Logistic Regression'\r\n",
        "kfold = model_selection.KFold(n_splits=10, random_state=seed)\r\n",
        "cv_results = model_selection.cross_val_score(model, X_train, Y_train, cv=kfold, scoring='accuracy')\r\n",
        "msg = \"%s: %f (%f)\" % (name, cv_results.mean(), cv_results.std())\r\n",
        "print(msg)"
      ],
      "execution_count": 113,
      "outputs": [
        {
          "output_type": "stream",
          "text": [
            "Logistic Regression: 0.814817 (0.032689)\n"
          ],
          "name": "stdout"
        },
        {
          "output_type": "stream",
          "text": [
            "/usr/local/lib/python3.7/dist-packages/sklearn/model_selection/_split.py:296: FutureWarning: Setting a random_state has no effect since shuffle is False. This will raise an error in 0.24. You should leave random_state to its default (None), or set shuffle=True.\n",
            "  FutureWarning\n"
          ],
          "name": "stderr"
        }
      ]
    },
    {
      "cell_type": "code",
      "metadata": {
        "colab": {
          "base_uri": "https://localhost:8080/"
        },
        "id": "jLmsaX7UfV7D",
        "outputId": "7639880e-c2de-4622-8206-f24afab234de"
      },
      "source": [
        "predictions = model.predict(X_validation)\r\n",
        "print(accuracy_score(Y_validation, predictions))"
      ],
      "execution_count": 114,
      "outputs": [
        {
          "output_type": "stream",
          "text": [
            "0.8050314465408805\n"
          ],
          "name": "stdout"
        }
      ]
    },
    {
      "cell_type": "markdown",
      "metadata": {
        "id": "hdH8q9LLxDiO"
      },
      "source": [
        "Tener en cuenta que la cantidad de datos reservados para la validacion era pequena en comparacion"
      ]
    },
    {
      "cell_type": "markdown",
      "metadata": {
        "id": "xzOI0q73JYwm"
      },
      "source": [
        "# **Matrix de confusion**"
      ]
    },
    {
      "cell_type": "code",
      "metadata": {
        "colab": {
          "base_uri": "https://localhost:8080/"
        },
        "id": "q7ROam_e-yH4",
        "outputId": "93143f09-665f-4b0a-954b-a3634cfa7a98"
      },
      "source": [
        "print(confusion_matrix(Y_validation, predictions))"
      ],
      "execution_count": 118,
      "outputs": [
        {
          "output_type": "stream",
          "text": [
            "[[118  32]\n",
            " [ 30 138]]\n"
          ],
          "name": "stdout"
        }
      ]
    },
    {
      "cell_type": "markdown",
      "metadata": {
        "id": "47bA3h_1xQzp"
      },
      "source": [
        "32 que aprobaron fueron predecidos como no aprobados\r\n",
        "\r\n",
        "30 que no aprobaron fueron predecidos como aprobados"
      ]
    },
    {
      "cell_type": "markdown",
      "metadata": {
        "id": "y3j-mQe-_9WL"
      },
      "source": [
        "# **Prueba** "
      ]
    },
    {
      "cell_type": "code",
      "metadata": {
        "colab": {
          "base_uri": "https://localhost:8080/"
        },
        "id": "U2jvxBSt_NaC",
        "outputId": "7c600125-2a31-4852-de36-9f133c1b2765"
      },
      "source": [
        "X_new = pd.DataFrame({'Primer.Par': [0], 'Segundo.Par': [24], 'AOT': [4]})\r\n",
        "model.predict(X_new)"
      ],
      "execution_count": 117,
      "outputs": [
        {
          "output_type": "execute_result",
          "data": {
            "text/plain": [
              "array(['0'], dtype=object)"
            ]
          },
          "metadata": {
            "tags": []
          },
          "execution_count": 117
        }
      ]
    },
    {
      "cell_type": "markdown",
      "metadata": {
        "id": "a_0XTWBLY3Ej"
      },
      "source": [
        "# Nueva sección"
      ]
    }
  ]
}